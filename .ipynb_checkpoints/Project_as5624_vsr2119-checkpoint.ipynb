{
 "cells": [
  {
   "cell_type": "markdown",
   "metadata": {},
   "source": [
    "# Recovery of Heard Speech Spectrograms"
   ]
  },
  {
   "cell_type": "code",
   "execution_count": 15,
   "metadata": {},
   "outputs": [],
   "source": [
    "import numpy as np\n",
    "\n",
    "# Code for Augmented Lagrangian Method\n",
    "def ALM(A,y,u,alpha):\n",
    "    m = np.shape(A)[0]\n",
    "    n = np.shape(A)[1]\n",
    "    # initialise x and v of Augmented Lagrangian\n",
    "    x = np.zeros_like(y)\n",
    "    v = np.zeros_like(y)\n",
    "    \n",
    "    # do iterative updates\n",
    "    err = []\n",
    "    for k in range(100):\n",
    "        descent = x - alpha*u*np.dot(A.T,np.dot(A,x)-y) - alpha*np.dot(v,A)\n",
    "        \n",
    "        x = np.sign(descent)*np.maximum(np.abs(descent)-1,0)     # prox step\n",
    "        v = v + u*(np.dot(A,x)-y)        \n",
    "    return x,v"
   ]
  },
  {
   "cell_type": "code",
   "execution_count": 14,
   "metadata": {
    "scrolled": true
   },
   "outputs": [
    {
     "data": {
      "text/plain": [
       "array([[1., 0., 1.],\n",
       "       [3., 1., 4.],\n",
       "       [0., 1., 3.]])"
      ]
     },
     "execution_count": 14,
     "metadata": {},
     "output_type": "execute_result"
    }
   ],
   "source": [
    "A = np.array([[1,-2,1],[3,1,4],[-1,1,3]],dtype=float)\n",
    "c = np.array([-2,5,3],dtype=float)\n",
    "np.maximum(A,0)"
   ]
  }
 ],
 "metadata": {
  "kernelspec": {
   "display_name": "Python 3",
   "language": "python",
   "name": "python3"
  },
  "language_info": {
   "codemirror_mode": {
    "name": "ipython",
    "version": 3
   },
   "file_extension": ".py",
   "mimetype": "text/x-python",
   "name": "python",
   "nbconvert_exporter": "python",
   "pygments_lexer": "ipython3",
   "version": "3.6.5"
  }
 },
 "nbformat": 4,
 "nbformat_minor": 2
}
