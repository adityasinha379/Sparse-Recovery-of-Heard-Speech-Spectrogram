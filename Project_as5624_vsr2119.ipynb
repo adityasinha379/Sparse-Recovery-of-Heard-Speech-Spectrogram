{
 "cells": [
  {
   "cell_type": "markdown",
   "metadata": {},
   "source": [
    "# Recovery of Heard Speech Spectrograms"
   ]
  },
  {
   "cell_type": "code",
   "execution_count": 56,
   "metadata": {},
   "outputs": [],
   "source": [
    "import numpy as np\n",
    "import matplotlib.pyplot as plt\n",
    "\n",
    "# Code for Augmented Lagrangian Method\n",
    "def ALM(A,y,u,alpha,iters):\n",
    "    m,n = np.shape(A)\n",
    "    # initialise x and v of Augmented Lagrangian\n",
    "    x = np.zeros(n)\n",
    "    v = np.zeros(m)\n",
    "    \n",
    "    # do iterative updates\n",
    "    err = []\n",
    "    for k in range(iters):\n",
    "        descent = x - alpha*u*np.dot(A.T,np.dot(A,x)-y) - alpha*np.dot(v,A)\n",
    "        \n",
    "        x = np.sign(descent)*np.maximum(np.abs(descent)-1,0)     # prox step\n",
    "        v = v + u*(np.dot(A,x)-y)\n",
    "        err.append(np.linalg.norm(np.dot(A,x)-y))\n",
    "    return x,v,err"
   ]
  },
  {
   "cell_type": "code",
   "execution_count": 82,
   "metadata": {
    "scrolled": true
   },
   "outputs": [
    {
     "name": "stdout",
     "output_type": "stream",
     "text": [
      "5.75922172262796e-08\n"
     ]
    },
    {
     "data": {
      "image/png": "[encoded data removed]",
      "text/plain": [
       "<Figure size 432x288 with 1 Axes>"
      ]
     },
     "metadata": {},
     "output_type": "display_data"
    }
   ],
   "source": [
    "A = np.array([[1,-2,1,5,2,3],[3,1,4,8,4,6],[-1,1,3,1,9,5]],dtype=float)\n",
    "y = np.array([-2,5,3],dtype=float)\n",
    "u = 7\n",
    "alpha = 8e-4\n",
    "x,v,err = ALM(A,y,u,alpha,iters=1000)\n",
    "plt.plot(err)\n",
    "print(err[-1])"
   ]
  }
 ],
 "metadata": {
  "kernelspec": {
   "display_name": "Python 3",
   "language": "python",
   "name": "python3"
  },
  "language_info": {
   "codemirror_mode": {
    "name": "ipython",
    "version": 3
   },
   "file_extension": ".py",
   "mimetype": "text/x-python",
   "name": "python",
   "nbconvert_exporter": "python",
   "pygments_lexer": "ipython3",
   "version": "3.6.5"
  }
 },
 "nbformat": 4,
 "nbformat_minor": 2
}
